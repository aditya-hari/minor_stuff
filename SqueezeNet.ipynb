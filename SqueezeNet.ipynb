{
 "cells": [
  {
   "cell_type": "code",
   "execution_count": 18,
   "metadata": {},
   "outputs": [],
   "source": [
    "import tensorflow as tf"
   ]
  },
  {
   "cell_type": "code",
   "execution_count": 19,
   "metadata": {},
   "outputs": [],
   "source": [
    "sgd = tf.keras.optimizers.SGD(lr=0.0001,momentum=0.4)"
   ]
  },
  {
   "cell_type": "code",
   "execution_count": 20,
   "metadata": {},
   "outputs": [],
   "source": [
    "bnmomemtum=0.4\n",
    "\n",
    "#Define fire module\n",
    "def fire(x, squeeze, expand):\n",
    "    y  = tf.keras.layers.Conv2D(filters=squeeze, kernel_size=1, activation='relu', padding='same')(x)\n",
    "    y = tf.keras.layers.BatchNormalization(momentum=bnmomemtum)(y)\n",
    "    y1 = tf.keras.layers.Conv2D(filters=expand//2, kernel_size=1, activation='relu', padding='same')(y)\n",
    "    y1 = tf.keras.layers.BatchNormalization(momentum=bnmomemtum)(y1)\n",
    "    y3 = tf.keras.layers.Conv2D(filters=expand//2, kernel_size=3, activation='relu', padding='same')(y)\n",
    "    y3 = tf.keras.layers.BatchNormalization(momentum=bnmomemtum)(y3)\n",
    "    return tf.keras.layers.concatenate([y1, y3])\n",
    "\n",
    "def fire_module(squeeze, expand):\n",
    "    return lambda x: fire(x, squeeze, expand)\n",
    "\n",
    "#Define SqueezeNet\n",
    "x = tf.keras.layers.Input(shape=[224,224, 3]) # input is 192x192 pixels RGB\n",
    "\n",
    "y = tf.keras.layers.Conv2D(kernel_size=3, filters=32, padding='same', use_bias=True, activation='relu')(x)\n",
    "y = tf.keras.layers.BatchNormalization(momentum=bnmomemtum)(y)\n",
    "y = fire_module(24, 48)(y)\n",
    "y = tf.keras.layers.MaxPooling2D(pool_size=2)(y)\n",
    "y = fire_module(48, 96)(y)\n",
    "y = tf.keras.layers.MaxPooling2D(pool_size=2)(y)\n",
    "y = fire_module(64, 128)(y)\n",
    "y = tf.keras.layers.MaxPooling2D(pool_size=2)(y)\n",
    "y = fire_module(48, 96)(y)\n",
    "y = tf.keras.layers.MaxPooling2D(pool_size=2)(y)\n",
    "y = fire_module(24, 48)(y)\n",
    "y = tf.keras.layers.GlobalAveragePooling2D()(y)\n",
    "y = tf.keras.layers.Dense(4, activation='softmax')(y)\n",
    "\n",
    "model = tf.keras.Model(x, y)\n",
    "\n",
    "model.compile(\n",
    "  optimizer=sgd,\n",
    "  loss= 'categorical_crossentropy',\n",
    "  metrics=['accuracy'])\n"
   ]
  },
  {
   "cell_type": "code",
   "execution_count": 25,
   "metadata": {},
   "outputs": [
    {
     "name": "stdout",
     "output_type": "stream",
     "text": [
      "Found 3400 images belonging to 4 classes.\n",
      "Found 400 images belonging to 4 classes.\n"
     ]
    }
   ],
   "source": [
    "from tensorflow.keras.preprocessing.image import ImageDataGenerator\n",
    "\n",
    "TRAIN_DIR = '/home/siddhant/Datasets/Minor/images/cropped/train/'\n",
    "VAL_DIR = '/home/siddhant/Datasets/Minor/images/cropped/test/'\n",
    "train_datagen = ImageDataGenerator(rescale = 1./255,\n",
    "                                   shear_range = 0.2,\n",
    "                                   zoom_range = 0.2,\n",
    "                                   horizontal_flip = True)\n",
    "\n",
    "val_datagen = ImageDataGenerator(rescale = 1./255,\n",
    "                                 shear_range = 0.2,\n",
    "                                   zoom_range = 0.2,\n",
    "                                   horizontal_flip = True)\n",
    "\n",
    "training_set = train_datagen.flow_from_directory(TRAIN_DIR,\n",
    "                                                target_size = (224 , 224),\n",
    "                                                batch_size = 16,\n",
    "                                                class_mode = 'categorical')\n",
    "\n",
    "val_set = val_datagen.flow_from_directory(VAL_DIR,\n",
    "                                            target_size = (224 , 224),\n",
    "                                            batch_size = 16,\n",
    "                                            class_mode = 'categorical')\n"
   ]
  },
  {
   "cell_type": "code",
   "execution_count": 26,
   "metadata": {},
   "outputs": [],
   "source": [
    "classweights = {0:1.0 , 1:1.1 , 2:1.1, 3:9.1}"
   ]
  },
  {
   "cell_type": "code",
   "execution_count": 27,
   "metadata": {},
   "outputs": [],
   "source": [
    "from tensorflow.keras.callbacks import TensorBoard\n",
    "tboard = TensorBoard(log_dir=f'log/')"
   ]
  },
  {
   "cell_type": "code",
   "execution_count": 28,
   "metadata": {},
   "outputs": [
    {
     "name": "stdout",
     "output_type": "stream",
     "text": [
      "Epoch 1/20\n",
      "212/212 [==============================] - 95s 448ms/step - loss: 2.0770 - acc: 0.4973 - val_loss: 0.8437 - val_acc: 0.7775\n",
      "Epoch 2/20\n",
      "212/212 [==============================] - 63s 296ms/step - loss: 1.3178 - acc: 0.7405 - val_loss: 0.7058 - val_acc: 0.8325\n",
      "Epoch 3/20\n",
      "212/212 [==============================] - 61s 288ms/step - loss: 1.0326 - acc: 0.8203 - val_loss: 0.5695 - val_acc: 0.9075\n",
      "Epoch 4/20\n",
      "212/212 [==============================] - 61s 287ms/step - loss: 0.8792 - acc: 0.8588 - val_loss: 0.5905 - val_acc: 0.8675\n",
      "Epoch 5/20\n",
      "212/212 [==============================] - 61s 287ms/step - loss: 0.7716 - acc: 0.8898 - val_loss: 0.5285 - val_acc: 0.8900\n",
      "Epoch 6/20\n",
      "212/212 [==============================] - 61s 289ms/step - loss: 0.6803 - acc: 0.9037 - val_loss: 0.3871 - val_acc: 0.9325\n",
      "Epoch 7/20\n",
      "212/212 [==============================] - 62s 295ms/step - loss: 0.6329 - acc: 0.9125 - val_loss: 0.4053 - val_acc: 0.9375\n",
      "Epoch 8/20\n",
      "212/212 [==============================] - 63s 296ms/step - loss: 0.5847 - acc: 0.9163 - val_loss: 0.3103 - val_acc: 0.9525\n",
      "Epoch 9/20\n",
      "212/212 [==============================] - 62s 295ms/step - loss: 0.5522 - acc: 0.9233 - val_loss: 0.3377 - val_acc: 0.9350\n",
      "Epoch 10/20\n",
      "212/212 [==============================] - 63s 297ms/step - loss: 0.5310 - acc: 0.9217 - val_loss: 0.3036 - val_acc: 0.9425\n",
      "Epoch 11/20\n",
      "212/212 [==============================] - 63s 298ms/step - loss: 0.4891 - acc: 0.9314 - val_loss: 0.3812 - val_acc: 0.9225\n",
      "Epoch 12/20\n",
      "212/212 [==============================] - 64s 302ms/step - loss: 0.4696 - acc: 0.9376 - val_loss: 0.2993 - val_acc: 0.9350\n",
      "Epoch 13/20\n",
      "212/212 [==============================] - 63s 299ms/step - loss: 0.4773 - acc: 0.9270 - val_loss: 0.2614 - val_acc: 0.9550\n",
      "Epoch 14/20\n",
      "212/212 [==============================] - 63s 299ms/step - loss: 0.4166 - acc: 0.9347 - val_loss: 0.2612 - val_acc: 0.9400\n",
      "Epoch 15/20\n",
      "212/212 [==============================] - 63s 299ms/step - loss: 0.4010 - acc: 0.9412 - val_loss: 0.3894 - val_acc: 0.8925\n",
      "Epoch 16/20\n",
      "212/212 [==============================] - 64s 302ms/step - loss: 0.3570 - acc: 0.9468 - val_loss: 0.2800 - val_acc: 0.9375\n",
      "Epoch 17/20\n",
      "212/212 [==============================] - 64s 300ms/step - loss: 0.3720 - acc: 0.9498 - val_loss: 0.2733 - val_acc: 0.9475\n",
      "Epoch 18/20\n",
      "212/212 [==============================] - 64s 300ms/step - loss: 0.3681 - acc: 0.9456 - val_loss: 0.2171 - val_acc: 0.9500\n",
      "Epoch 19/20\n",
      "212/212 [==============================] - 64s 302ms/step - loss: 0.3392 - acc: 0.9548 - val_loss: 0.2287 - val_acc: 0.9475\n",
      "Epoch 20/20\n",
      "212/212 [==============================] - 64s 302ms/step - loss: 0.3495 - acc: 0.9492 - val_loss: 0.2624 - val_acc: 0.9325\n"
     ]
    }
   ],
   "source": [
    "training_history = model.fit_generator(training_set, epochs =20,validation_data = val_set , verbose = 1 ,steps_per_epoch=training_set.samples//training_set.batch_size, class_weight=classweights, callbacks=[tboard])"
   ]
  },
  {
   "cell_type": "code",
   "execution_count": 31,
   "metadata": {},
   "outputs": [],
   "source": [
    "import pickle\n",
    "with open('training_history', 'wb') as file_pi:\n",
    "    pickle.dump(training_history.history, file_pi)"
   ]
  },
  {
   "cell_type": "code",
   "execution_count": null,
   "metadata": {},
   "outputs": [],
   "source": []
  }
 ],
 "metadata": {
  "kernelspec": {
   "display_name": "Python (tf_gpu)",
   "language": "python",
   "name": "tf_gpu"
  },
  "language_info": {
   "codemirror_mode": {
    "name": "ipython",
    "version": 3
   },
   "file_extension": ".py",
   "mimetype": "text/x-python",
   "name": "python",
   "nbconvert_exporter": "python",
   "pygments_lexer": "ipython3",
   "version": "3.7.7"
  }
 },
 "nbformat": 4,
 "nbformat_minor": 2
}
