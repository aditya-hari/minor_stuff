{
 "cells": [
  {
   "cell_type": "code",
   "execution_count": 2,
   "metadata": {},
   "outputs": [],
   "source": [
    "#importing necessary modules \n",
    "import tensorflow as tf\n",
    "from PIL import ImageFile\n",
    "ImageFile.LOAD_TRUNCATED_IMAGES = True  #Prevents interupptions due to broken data stream"
   ]
  },
  {
   "cell_type": "code",
   "execution_count": 6,
   "metadata": {
    "colab": {},
    "colab_type": "code",
    "id": "F2-7fa8tM6EG"
   },
   "outputs": [],
   "source": [
    "#Prebuilt GoogLeNet model available in keras\n",
    "mod = tf.keras.applications.inception_v3.InceptionV3(\n",
    "        input_shape=(224,224,3), include_top=True, weights=None, \n",
    "        input_tensor=None, pooling=None, classes=4)"
   ]
  },
  {
   "cell_type": "code",
   "execution_count": null,
   "metadata": {
    "colab": {},
    "colab_type": "code",
    "id": "-bN15crHai87"
   },
   "outputs": [],
   "source": [
    "sgd = tf.keras.optimizers.SGD(lr=0.01,momentum=0.9)\n",
    "mod.compile(optimizer=sgd, loss='categorical_crossentropy' , metrics=['accuracy'])"
   ]
  },
  {
   "cell_type": "code",
   "execution_count": null,
   "metadata": {
    "colab": {
     "base_uri": "https://localhost:8080/",
     "height": 51
    },
    "colab_type": "code",
    "id": "QgoWodQaa4WX",
    "outputId": "7949b50f-ed54-4787-ab95-c082d3425bc4"
   },
   "outputs": [],
   "source": [
    "from keras.preprocessing.image import ImageDataGenerator\n",
    "\n",
    "train_datagen = ImageDataGenerator(rescale = 1./255,\n",
    "                                   shear_range = 0.2,\n",
    "                                   zoom_range = 0.2,\n",
    "                                   horizontal_flip = True)\n",
    "\n",
    "test_datagen = ImageDataGenerator(rescale = 1./255)\n",
    "\n",
    "training_set = train_datagen.flow_from_directory('/train', #Replace with path to train set\n",
    "                                                 target_size = (224 , 224),\n",
    "                                                 batch_size = 64,\n",
    "                                                 class_mode = 'categorical')\n",
    "\n",
    "test_set = test_datagen.flow_from_directory('/test', #Replace with path to test set\n",
    "                                            target_size = (224 , 224),\n",
    "                                            batch_size = 64,\n",
    "                                            class_mode = 'categorical')\n",
    "\n"
   ]
  },
  {
   "cell_type": "code",
   "execution_count": null,
   "metadata": {
    "colab": {},
    "colab_type": "code",
    "id": "9AWp1J99a-lm"
   },
   "outputs": [],
   "source": [
    "classweights = {0:1.0 , 1:1.1 , 2:1.1, 3:9.1} #Custom class weights to account for unbalanced dataset "
   ]
  },
  {
   "cell_type": "code",
   "execution_count": null,
   "metadata": {
    "colab": {
     "base_uri": "https://localhost:8080/",
     "height": 411
    },
    "colab_type": "code",
    "id": "zK-PvXD_b3oz",
    "outputId": "930c03c2-f31c-40b3-8b57-ef3194bc1e68"
   },
   "outputs": [],
   "source": [
    "model.fit(training_set, epochs = 10, validation_data = test_set, \n",
    "          verbose = 1 , class_weight=classweights ,\n",
    "          validation_steps=1,\n",
    "          steps_per_epoch=training_set.samples//training_set.batch_size, \n",
    "          validation_steps=test_set.samples//test_set.batch_size)"
   ]
  },
  {
   "cell_type": "code",
   "execution_count": null,
   "metadata": {
    "colab": {
     "base_uri": "https://localhost:8080/",
     "height": 343
    },
    "colab_type": "code",
    "id": "x2bfcCjDb4ks",
    "outputId": "617e814e-26e4-41db-e407-5f93a959a3db"
   },
   "outputs": [],
   "source": [
    "mod.evaluate(test_set , verbose=1 , batch_size=test_set.batch_size)"
   ]
  }
 ],
 "metadata": {
  "kernelspec": {
   "display_name": "Python 3",
   "language": "python",
   "name": "python3"
  },
  "language_info": {
   "codemirror_mode": {
    "name": "ipython",
    "version": 3
   },
   "file_extension": ".py",
   "mimetype": "text/x-python",
   "name": "python",
   "nbconvert_exporter": "python",
   "pygments_lexer": "ipython3",
   "version": "3.7.3"
  }
 },
 "nbformat": 4,
 "nbformat_minor": 2
}
